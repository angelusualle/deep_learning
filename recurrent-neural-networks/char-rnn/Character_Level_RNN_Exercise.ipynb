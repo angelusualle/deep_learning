{
 "cells": [
  {
   "cell_type": "markdown",
   "metadata": {},
   "source": [
    "# Character-Level LSTM in PyTorch\n",
    "\n",
    "In this notebook, I'll construct a character-level LSTM with PyTorch. The network will train character by character on some text, then generate new text character by character. As an example, I will train on Anna Karenina. **This model will be able to generate new text based on the text from the book!**\n",
    "\n",
    "This network is based off of Andrej Karpathy's [post on RNNs](http://karpathy.github.io/2015/05/21/rnn-effectiveness/) and [implementation in Torch](https://github.com/karpathy/char-rnn). Below is the general architecture of the character-wise RNN.\n",
    "\n",
    "<img src=\"assets/charseq.jpeg\" width=\"500\">"
   ]
  },
  {
   "cell_type": "markdown",
   "metadata": {},
   "source": [
    "First let's load in our required resources for data loading and model creation."
   ]
  },
  {
   "cell_type": "code",
   "execution_count": 1,
   "metadata": {},
   "outputs": [],
   "source": [
    "import numpy as np\n",
    "import torch\n",
    "from torch import nn\n",
    "import torch.nn.functional as F"
   ]
  },
  {
   "cell_type": "markdown",
   "metadata": {},
   "source": [
    "## Load in Data\n",
    "\n",
    "Then, we'll load the Anna Karenina text file and convert it into integers for our network to use. "
   ]
  },
  {
   "cell_type": "code",
   "execution_count": 2,
   "metadata": {},
   "outputs": [],
   "source": [
    "# open text file and read in data as `text`\n",
    "with open('data/anna.txt', 'r') as f:\n",
    "    text = f.read()"
   ]
  },
  {
   "cell_type": "markdown",
   "metadata": {},
   "source": [
    "Let's check out the first 100 characters, make sure everything is peachy. According to the [American Book Review](http://americanbookreview.org/100bestlines.asp), this is the 6th best first line of a book ever."
   ]
  },
  {
   "cell_type": "code",
   "execution_count": 3,
   "metadata": {},
   "outputs": [
    {
     "data": {
      "text/plain": [
       "'Chapter 1\\n\\n\\nHappy families are all alike; every unhappy family is unhappy in its own\\nway.\\n\\nEverythin'"
      ]
     },
     "execution_count": 3,
     "metadata": {},
     "output_type": "execute_result"
    }
   ],
   "source": [
    "text[:100]"
   ]
  },
  {
   "cell_type": "markdown",
   "metadata": {},
   "source": [
    "### Tokenization\n",
    "\n",
    "In the cells, below, I'm creating a couple **dictionaries** to convert the characters to and from integers. Encoding the characters as integers makes it easier to use as input in the network."
   ]
  },
  {
   "cell_type": "code",
   "execution_count": 4,
   "metadata": {},
   "outputs": [],
   "source": [
    "# encode the text and map each character to an integer and vice versa\n",
    "\n",
    "# we create two dictionaries:\n",
    "# 1. int2char, which maps integers to characters\n",
    "# 2. char2int, which maps characters to unique integers\n",
    "chars = tuple(set(text))\n",
    "int2char = dict(enumerate(chars))\n",
    "char2int = {ch: ii for ii, ch in int2char.items()}\n",
    "\n",
    "# encode the text\n",
    "encoded = np.array([char2int[ch] for ch in text])"
   ]
  },
  {
   "cell_type": "markdown",
   "metadata": {},
   "source": [
    "And we can see those same characters from above, encoded as integers."
   ]
  },
  {
   "cell_type": "code",
   "execution_count": 5,
   "metadata": {},
   "outputs": [
    {
     "data": {
      "text/plain": [
       "array([22, 44, 32, 27, 40, 75, 62, 67, 63, 59, 59, 59, 28, 32, 27, 27, 15,\n",
       "       67, 78, 32, 42, 77, 16, 77, 75, 12, 67, 32, 62, 75, 67, 32, 16, 16,\n",
       "       67, 32, 16, 77, 52, 75, 54, 67, 75, 82, 75, 62, 15, 67, 31, 13, 44,\n",
       "       32, 27, 27, 15, 67, 78, 32, 42, 77, 16, 15, 67, 77, 12, 67, 31, 13,\n",
       "       44, 32, 27, 27, 15, 67, 77, 13, 67, 77, 40, 12, 67, 72,  8, 13, 59,\n",
       "        8, 32, 15, 34, 59, 59, 81, 82, 75, 62, 15, 40, 44, 77, 13])"
      ]
     },
     "execution_count": 5,
     "metadata": {},
     "output_type": "execute_result"
    }
   ],
   "source": [
    "encoded[:100]"
   ]
  },
  {
   "cell_type": "markdown",
   "metadata": {},
   "source": [
    "## Pre-processing the data\n",
    "\n",
    "As you can see in our char-RNN image above, our LSTM expects an input that is **one-hot encoded** meaning that each character is converted into an integer (via our created dictionary) and *then* converted into a column vector where only it's corresponding integer index will have the value of 1 and the rest of the vector will be filled with 0's. Since we're one-hot encoding the data, let's make a function to do that!\n"
   ]
  },
  {
   "cell_type": "code",
   "execution_count": 6,
   "metadata": {},
   "outputs": [],
   "source": [
    "def one_hot_encode(arr, n_labels):\n",
    "    \n",
    "    # Initialize the the encoded array\n",
    "    one_hot = np.zeros((arr.size, n_labels), dtype=np.float32)\n",
    "    \n",
    "    # Fill the appropriate elements with ones\n",
    "    one_hot[np.arange(one_hot.shape[0]), arr.flatten()] = 1.\n",
    "    \n",
    "    # Finally reshape it to get back to the original array\n",
    "    one_hot = one_hot.reshape((*arr.shape, n_labels))\n",
    "    \n",
    "    return one_hot"
   ]
  },
  {
   "cell_type": "code",
   "execution_count": 7,
   "metadata": {},
   "outputs": [
    {
     "name": "stdout",
     "output_type": "stream",
     "text": [
      "[[[0. 0. 0. 1. 0. 0. 0. 0.]\n",
      "  [0. 0. 0. 0. 0. 1. 0. 0.]\n",
      "  [0. 1. 0. 0. 0. 0. 0. 0.]]]\n"
     ]
    }
   ],
   "source": [
    "# check that the function works as expected\n",
    "test_seq = np.array([[3, 5, 1]])\n",
    "one_hot = one_hot_encode(test_seq, 8)\n",
    "\n",
    "print(one_hot)"
   ]
  },
  {
   "cell_type": "markdown",
   "metadata": {},
   "source": [
    "## Making training mini-batches\n",
    "\n",
    "\n",
    "To train on this data, we also want to create mini-batches for training. Remember that we want our batches to be multiple sequences of some desired number of sequence steps. Considering a simple example, our batches would look like this:\n",
    "\n",
    "<img src=\"assets/sequence_batching@1x.png\" width=500px>\n",
    "\n",
    "\n",
    "<br>\n",
    "\n",
    "In this example, we'll take the encoded characters (passed in as the `arr` parameter) and split them into multiple sequences, given by `batch_size`. Each of our sequences will be `seq_length` long.\n",
    "\n",
    "### Creating Batches\n",
    "\n",
    "**1. The first thing we need to do is discard some of the text so we only have completely full mini-batches. **\n",
    "\n",
    "Each batch contains $N \\times M$ characters, where $N$ is the batch size (the number of sequences in a batch) and $M$ is the seq_length or number of time steps in a sequence. Then, to get the total number of batches, $K$, that we can make from the array `arr`, you divide the length of `arr` by the number of characters per batch. Once you know the number of batches, you can get the total number of characters to keep from `arr`, $N * M * K$.\n",
    "\n",
    "**2. After that, we need to split `arr` into $N$ batches. ** \n",
    "\n",
    "You can do this using `arr.reshape(size)` where `size` is a tuple containing the dimensions sizes of the reshaped array. We know we want $N$ sequences in a batch, so let's make that the size of the first dimension. For the second dimension, you can use `-1` as a placeholder in the size, it'll fill up the array with the appropriate data for you. After this, you should have an array that is $N \\times (M * K)$.\n",
    "\n",
    "**3. Now that we have this array, we can iterate through it to get our mini-batches. **\n",
    "\n",
    "The idea is each batch is a $N \\times M$ window on the $N \\times (M * K)$ array. For each subsequent batch, the window moves over by `seq_length`. We also want to create both the input and target arrays. Remember that the targets are just the inputs shifted over by one character. The way I like to do this window is use `range` to take steps of size `n_steps` from $0$ to `arr.shape[1]`, the total number of tokens in each sequence. That way, the integers you get from `range` always point to the start of a batch, and each window is `seq_length` wide.\n",
    "\n",
    "> **TODO:** Write the code for creating batches in the function below. The exercises in this notebook _will not be easy_. I've provided a notebook with solutions alongside this notebook. If you get stuck, checkout the solutions. The most important thing is that you don't copy and paste the code into here, **type out the solution code yourself.**"
   ]
  },
  {
   "cell_type": "code",
   "execution_count": 8,
   "metadata": {},
   "outputs": [],
   "source": [
    "def get_batches(arr, batch_size, seq_length):\n",
    "    '''Create a generator that returns batches of size\n",
    "       batch_size x seq_length from arr.\n",
    "       \n",
    "       Arguments\n",
    "       ---------\n",
    "       arr: Array you want to make batches from\n",
    "       batch_size: Batch size, the number of sequences per batch\n",
    "       seq_length: Number of encoded chars in a sequence\n",
    "    '''\n",
    "    \n",
    "    batch_size_total = batch_size * seq_length\n",
    "    # total number of batches we can make\n",
    "    n_batches = len(arr)//batch_size_total\n",
    "    \n",
    "    # Keep only enough characters to make full batches\n",
    "    arr = arr[:n_batches * batch_size_total]\n",
    "    # Reshape into batch_size rows\n",
    "    arr = arr.reshape((batch_size, -1))\n",
    "    \n",
    "    # iterate through the array, one sequence at a time\n",
    "    for n in range(0, arr.shape[1], seq_length):\n",
    "        # The features\n",
    "        x = arr[:, n:n+seq_length]\n",
    "        # The targets, shifted by one\n",
    "        y = np.zeros_like(x)\n",
    "        try:\n",
    "            y[:, :-1], y[:, -1] = x[:, 1:], arr[:, n+seq_length]\n",
    "        except IndexError:\n",
    "            y[:, :-1], y[:, -1] = x[:, 1:], arr[:, 0]\n",
    "        yield x, y"
   ]
  },
  {
   "cell_type": "markdown",
   "metadata": {},
   "source": [
    "### Test Your Implementation\n",
    "\n",
    "Now I'll make some data sets and we can check out what's going on as we batch data. Here, as an example, I'm going to use a batch size of 8 and 50 sequence steps."
   ]
  },
  {
   "cell_type": "code",
   "execution_count": 9,
   "metadata": {},
   "outputs": [],
   "source": [
    "batches = get_batches(encoded, 8, 50)\n",
    "x, y = next(batches)"
   ]
  },
  {
   "cell_type": "code",
   "execution_count": 10,
   "metadata": {},
   "outputs": [
    {
     "name": "stdout",
     "output_type": "stream",
     "text": [
      "x\n",
      " [[22 44 32 27 40 75 62 67 63 59]\n",
      " [12 72 13 67 40 44 32 40 67 32]\n",
      " [75 13 74 67 72 62 67 32 67 78]\n",
      " [12 67 40 44 75 67  5 44 77 75]\n",
      " [67 12 32  8 67 44 75 62 67 40]\n",
      " [ 5 31 12 12 77 72 13 67 32 13]\n",
      " [67 76 13 13 32 67 44 32 74 67]\n",
      " [ 9 35 16 72 13 12 52 15 34 67]]\n",
      "\n",
      "y\n",
      " [[44 32 27 40 75 62 67 63 59 59]\n",
      " [72 13 67 40 44 32 40 67 32 40]\n",
      " [13 74 67 72 62 67 32 67 78 72]\n",
      " [67 40 44 75 67  5 44 77 75 78]\n",
      " [12 32  8 67 44 75 62 67 40 75]\n",
      " [31 12 12 77 72 13 67 32 13 74]\n",
      " [76 13 13 32 67 44 32 74 67 12]\n",
      " [35 16 72 13 12 52 15 34 67 55]]\n"
     ]
    }
   ],
   "source": [
    "# printing out the first 10 items in a sequence\n",
    "print('x\\n', x[:10, :10])\n",
    "print('\\ny\\n', y[:10, :10])"
   ]
  },
  {
   "cell_type": "markdown",
   "metadata": {},
   "source": [
    "If you implemented `get_batches` correctly, the above output should look something like \n",
    "```\n",
    "x\n",
    " [[25  8 60 11 45 27 28 73  1  2]\n",
    " [17  7 20 73 45  8 60 45 73 60]\n",
    " [27 20 80 73  7 28 73 60 73 65]\n",
    " [17 73 45  8 27 73 66  8 46 27]\n",
    " [73 17 60 12 73  8 27 28 73 45]\n",
    " [66 64 17 17 46  7 20 73 60 20]\n",
    " [73 76 20 20 60 73  8 60 80 73]\n",
    " [47 35 43  7 20 17 24 50 37 73]]\n",
    "\n",
    "y\n",
    " [[ 8 60 11 45 27 28 73  1  2  2]\n",
    " [ 7 20 73 45  8 60 45 73 60 45]\n",
    " [20 80 73  7 28 73 60 73 65  7]\n",
    " [73 45  8 27 73 66  8 46 27 65]\n",
    " [17 60 12 73  8 27 28 73 45 27]\n",
    " [64 17 17 46  7 20 73 60 20 80]\n",
    " [76 20 20 60 73  8 60 80 73 17]\n",
    " [35 43  7 20 17 24 50 37 73 36]]\n",
    " ```\n",
    " although the exact numbers may be different. Check to make sure the data is shifted over one step for `y`."
   ]
  },
  {
   "cell_type": "markdown",
   "metadata": {},
   "source": [
    "---\n",
    "## Defining the network with PyTorch\n",
    "\n",
    "Below is where you'll define the network.\n",
    "\n",
    "<img src=\"assets/charRNN.png\" width=500px>\n",
    "\n",
    "Next, you'll use PyTorch to define the architecture of the network. We start by defining the layers and operations we want. Then, define a method for the forward pass. You've also been given a method for predicting characters."
   ]
  },
  {
   "cell_type": "markdown",
   "metadata": {},
   "source": [
    "### Model Structure\n",
    "\n",
    "In `__init__` the suggested structure is as follows:\n",
    "* Create and store the necessary dictionaries (this has been done for you)\n",
    "* Define an LSTM layer that takes as params: an input size (the number of characters), a hidden layer size `n_hidden`, a number of layers `n_layers`, a dropout probability `drop_prob`, and a batch_first boolean (True, since we are batching)\n",
    "* Define a dropout layer with `drop_prob`\n",
    "* Define a fully-connected layer with params: input size `n_hidden` and output size (the number of characters)\n",
    "* Finally, initialize the weights (again, this has been given)\n",
    "\n",
    "Note that some parameters have been named and given in the `__init__` function, and we use them and store them by doing something like `self.drop_prob = drop_prob`."
   ]
  },
  {
   "cell_type": "markdown",
   "metadata": {},
   "source": [
    "---\n",
    "### LSTM Inputs/Outputs\n",
    "\n",
    "You can create a basic [LSTM layer](https://pytorch.org/docs/stable/nn.html#lstm) as follows\n",
    "\n",
    "```python\n",
    "self.lstm = nn.LSTM(input_size, n_hidden, n_layers, \n",
    "                            dropout=drop_prob, batch_first=True)\n",
    "```\n",
    "\n",
    "where `input_size` is the number of characters this cell expects to see as sequential input, and `n_hidden` is the number of units in the hidden layers in the cell. And we can add dropout by adding a dropout parameter with a specified probability; this will automatically add dropout to the inputs or outputs. Finally, in the `forward` function, we can stack up the LSTM cells into layers using `.view`. With this, you pass in a list of cells and it will send the output of one cell into the next cell.\n",
    "\n",
    "We also need to create an initial hidden state of all zeros. This is done like so\n",
    "\n",
    "```python\n",
    "self.init_hidden()\n",
    "```"
   ]
  },
  {
   "cell_type": "code",
   "execution_count": 11,
   "metadata": {},
   "outputs": [
    {
     "name": "stdout",
     "output_type": "stream",
     "text": [
      "No GPU available, training on CPU; consider making n_epochs very small.\n"
     ]
    }
   ],
   "source": [
    "# check if GPU is available\n",
    "train_on_gpu = torch.cuda.is_available()\n",
    "if(train_on_gpu):\n",
    "    print('Training on GPU!')\n",
    "else: \n",
    "    print('No GPU available, training on CPU; consider making n_epochs very small.')"
   ]
  },
  {
   "cell_type": "code",
   "execution_count": 13,
   "metadata": {},
   "outputs": [],
   "source": [
    "class CharRNN(nn.Module):\n",
    "    \n",
    "    def __init__(self, tokens, n_hidden=256, n_layers=2,\n",
    "                               drop_prob=0.5, lr=0.001):\n",
    "        super().__init__()\n",
    "        self.drop_prob = drop_prob\n",
    "        self.n_layers = n_layers\n",
    "        self.n_hidden = n_hidden\n",
    "        self.lr = lr\n",
    "        \n",
    "        # creating character dictionaries\n",
    "        self.chars = tokens\n",
    "        self.int2char = dict(enumerate(self.chars))\n",
    "        self.char2int = {ch: ii for ii, ch in self.int2char.items()}\n",
    "        \n",
    "        ## TODO: define the LSTM\n",
    "        self.lstm = nn.LSTM(len(self.chars), n_hidden, n_layers, \n",
    "                            dropout=drop_prob, batch_first=True)\n",
    "        \n",
    "        ## TODO: define a dropout layer\n",
    "        self.dropout = nn.Dropout(drop_prob)\n",
    "        \n",
    "        ## TODO: define the final, fully-connected output layer\n",
    "        self.fc = nn.Linear(n_hidden, len(self.chars))\n",
    "      \n",
    "    \n",
    "    def forward(self, x, hidden):\n",
    "        ''' Forward pass through the network. \n",
    "            These inputs are x, and the hidden/cell state `hidden`. '''\n",
    "                \n",
    "        ## TODO: Get the outputs and the new hidden state from the lstm\n",
    "        r_output, hidden = self.lstm(x, hidden)\n",
    "        \n",
    "        ## TODO: pass through a dropout layer\n",
    "        out = self.dropout(r_output)\n",
    "        \n",
    "        # Stack up LSTM outputs using view\n",
    "        # you may need to use contiguous to reshape the output\n",
    "        out = out.contiguous().view(-1, self.n_hidden)\n",
    "        \n",
    "        ## TODO: put x through the fully-connected layer\n",
    "        out = self.fc(out)\n",
    "        \n",
    "        # return the final output and the hidden state\n",
    "        return out, hidden\n",
    "    \n",
    "    \n",
    "    def init_hidden(self, batch_size):\n",
    "        ''' Initializes hidden state '''\n",
    "        # Create two new tensors with sizes n_layers x batch_size x n_hidden,\n",
    "        # initialized to zero, for hidden state and cell state of LSTM\n",
    "        weight = next(self.parameters()).data\n",
    "        \n",
    "        if (train_on_gpu):\n",
    "            hidden = (weight.new(self.n_layers, batch_size, self.n_hidden).zero_().cuda(),\n",
    "                  weight.new(self.n_layers, batch_size, self.n_hidden).zero_().cuda())\n",
    "        else:\n",
    "            hidden = (weight.new(self.n_layers, batch_size, self.n_hidden).zero_(),\n",
    "                      weight.new(self.n_layers, batch_size, self.n_hidden).zero_())\n",
    "        \n",
    "        return hidden\n",
    "        "
   ]
  },
  {
   "cell_type": "markdown",
   "metadata": {},
   "source": [
    "## Time to train\n",
    "\n",
    "The train function gives us the ability to set the number of epochs, the learning rate, and other parameters.\n",
    "\n",
    "Below we're using an Adam optimizer and cross entropy loss since we are looking at character class scores as output. We calculate the loss and perform backpropagation, as usual!\n",
    "\n",
    "A couple of details about training: \n",
    ">* Within the batch loop, we detach the hidden state from its history; this time setting it equal to a new *tuple* variable because an LSTM has a hidden state that is a tuple of the hidden and cell states.\n",
    "* We use [`clip_grad_norm_`](https://pytorch.org/docs/stable/_modules/torch/nn/utils/clip_grad.html) to help prevent exploding gradients."
   ]
  },
  {
   "cell_type": "code",
   "execution_count": 14,
   "metadata": {},
   "outputs": [],
   "source": [
    "def train(net, data, epochs=10, batch_size=10, seq_length=50, lr=0.001, clip=5, val_frac=0.1, print_every=10):\n",
    "    ''' Training a network \n",
    "    \n",
    "        Arguments\n",
    "        ---------\n",
    "        \n",
    "        net: CharRNN network\n",
    "        data: text data to train the network\n",
    "        epochs: Number of epochs to train\n",
    "        batch_size: Number of mini-sequences per mini-batch, aka batch size\n",
    "        seq_length: Number of character steps per mini-batch\n",
    "        lr: learning rate\n",
    "        clip: gradient clipping\n",
    "        val_frac: Fraction of data to hold out for validation\n",
    "        print_every: Number of steps for printing training and validation loss\n",
    "    \n",
    "    '''\n",
    "    net.train()\n",
    "    \n",
    "    opt = torch.optim.Adam(net.parameters(), lr=lr)\n",
    "    criterion = nn.CrossEntropyLoss()\n",
    "    \n",
    "    # create training and validation data\n",
    "    val_idx = int(len(data)*(1-val_frac))\n",
    "    data, val_data = data[:val_idx], data[val_idx:]\n",
    "    \n",
    "    if(train_on_gpu):\n",
    "        net.cuda()\n",
    "    \n",
    "    counter = 0\n",
    "    n_chars = len(net.chars)\n",
    "    for e in range(epochs):\n",
    "        # initialize hidden state\n",
    "        h = net.init_hidden(batch_size)\n",
    "        \n",
    "        for x, y in get_batches(data, batch_size, seq_length):\n",
    "            counter += 1\n",
    "            \n",
    "            # One-hot encode our data and make them Torch tensors\n",
    "            x = one_hot_encode(x, n_chars)\n",
    "            inputs, targets = torch.from_numpy(x), torch.from_numpy(y)\n",
    "            \n",
    "            if(train_on_gpu):\n",
    "                inputs, targets = inputs.cuda(), targets.cuda()\n",
    "\n",
    "            # Creating new variables for the hidden state, otherwise\n",
    "            # we'd backprop through the entire training history\n",
    "            h = tuple([each.data for each in h])\n",
    "\n",
    "            # zero accumulated gradients\n",
    "            net.zero_grad()\n",
    "            \n",
    "            # get the output from the model\n",
    "            output, h = net(inputs, h)\n",
    "            \n",
    "            # calculate the loss and perform backprop\n",
    "            loss = criterion(output, targets.view(batch_size*seq_length).long())\n",
    "            loss.backward()\n",
    "            # `clip_grad_norm` helps prevent the exploding gradient problem in RNNs / LSTMs.\n",
    "            nn.utils.clip_grad_norm_(net.parameters(), clip)\n",
    "            opt.step()\n",
    "            \n",
    "            # loss stats\n",
    "            if counter % print_every == 0:\n",
    "                # Get validation loss\n",
    "                val_h = net.init_hidden(batch_size)\n",
    "                val_losses = []\n",
    "                net.eval()\n",
    "                for x, y in get_batches(val_data, batch_size, seq_length):\n",
    "                    # One-hot encode our data and make them Torch tensors\n",
    "                    x = one_hot_encode(x, n_chars)\n",
    "                    x, y = torch.from_numpy(x), torch.from_numpy(y)\n",
    "                    \n",
    "                    # Creating new variables for the hidden state, otherwise\n",
    "                    # we'd backprop through the entire training history\n",
    "                    val_h = tuple([each.data for each in val_h])\n",
    "                    \n",
    "                    inputs, targets = x, y\n",
    "                    if(train_on_gpu):\n",
    "                        inputs, targets = inputs.cuda(), targets.cuda()\n",
    "\n",
    "                    output, val_h = net(inputs, val_h)\n",
    "                    val_loss = criterion(output, targets.view(batch_size*seq_length).long())\n",
    "                \n",
    "                    val_losses.append(val_loss.item())\n",
    "                \n",
    "                net.train() # reset to train mode after iterationg through validation data\n",
    "                \n",
    "                print(\"Epoch: {}/{}...\".format(e+1, epochs),\n",
    "                      \"Step: {}...\".format(counter),\n",
    "                      \"Loss: {:.4f}...\".format(loss.item()),\n",
    "                      \"Val Loss: {:.4f}\".format(np.mean(val_losses)))"
   ]
  },
  {
   "cell_type": "markdown",
   "metadata": {},
   "source": [
    "## Instantiating the model\n",
    "\n",
    "Now we can actually train the network. First we'll create the network itself, with some given hyperparameters. Then, define the mini-batches sizes, and start training!"
   ]
  },
  {
   "cell_type": "code",
   "execution_count": 15,
   "metadata": {},
   "outputs": [
    {
     "name": "stdout",
     "output_type": "stream",
     "text": [
      "CharRNN(\n",
      "  (lstm): LSTM(83, 512, num_layers=2, batch_first=True, dropout=0.5)\n",
      "  (dropout): Dropout(p=0.5, inplace=False)\n",
      "  (fc): Linear(in_features=512, out_features=83, bias=True)\n",
      ")\n"
     ]
    }
   ],
   "source": [
    "# define and print the net\n",
    "n_hidden=512\n",
    "n_layers=2\n",
    "\n",
    "net = CharRNN(chars, n_hidden, n_layers)\n",
    "print(net)"
   ]
  },
  {
   "cell_type": "markdown",
   "metadata": {},
   "source": [
    "### Set your training hyperparameters!"
   ]
  },
  {
   "cell_type": "code",
   "execution_count": 17,
   "metadata": {
    "scrolled": true
   },
   "outputs": [
    {
     "name": "stdout",
     "output_type": "stream",
     "text": [
      "Epoch: 1/10... Step: 10... Loss: 3.2654... Val Loss: 3.1749\n",
      "Epoch: 1/10... Step: 20... Loss: 3.1531... Val Loss: 3.1325\n",
      "Epoch: 1/10... Step: 30... Loss: 3.1472... Val Loss: 3.1210\n",
      "Epoch: 1/10... Step: 40... Loss: 3.1142... Val Loss: 3.1193\n",
      "Epoch: 1/10... Step: 50... Loss: 3.1401... Val Loss: 3.1179\n",
      "Epoch: 1/10... Step: 60... Loss: 3.1190... Val Loss: 3.1160\n",
      "Epoch: 1/10... Step: 70... Loss: 3.1094... Val Loss: 3.1148\n",
      "Epoch: 1/10... Step: 80... Loss: 3.1233... Val Loss: 3.1121\n",
      "Epoch: 1/10... Step: 90... Loss: 3.1212... Val Loss: 3.1055\n",
      "Epoch: 1/10... Step: 100... Loss: 3.1029... Val Loss: 3.0931\n",
      "Epoch: 1/10... Step: 110... Loss: 3.0787... Val Loss: 3.0611\n",
      "Epoch: 1/10... Step: 120... Loss: 2.9986... Val Loss: 2.9946\n",
      "Epoch: 1/10... Step: 130... Loss: 2.9394... Val Loss: 2.8894\n",
      "Epoch: 2/10... Step: 140... Loss: 2.9347... Val Loss: 2.8411\n",
      "Epoch: 2/10... Step: 150... Loss: 2.8174... Val Loss: 2.7718\n",
      "Epoch: 2/10... Step: 160... Loss: 2.7166... Val Loss: 2.6737\n",
      "Epoch: 2/10... Step: 170... Loss: 2.6263... Val Loss: 2.6045\n",
      "Epoch: 2/10... Step: 180... Loss: 2.5806... Val Loss: 2.5555\n",
      "Epoch: 2/10... Step: 190... Loss: 2.5264... Val Loss: 2.5092\n",
      "Epoch: 2/10... Step: 200... Loss: 2.5080... Val Loss: 2.4920\n",
      "Epoch: 2/10... Step: 210... Loss: 2.4764... Val Loss: 2.4400\n",
      "Epoch: 2/10... Step: 220... Loss: 2.4396... Val Loss: 2.4135\n",
      "Epoch: 2/10... Step: 230... Loss: 2.4293... Val Loss: 2.3871\n",
      "Epoch: 2/10... Step: 240... Loss: 2.4115... Val Loss: 2.3643\n",
      "Epoch: 2/10... Step: 250... Loss: 2.3555... Val Loss: 2.3435\n",
      "Epoch: 2/10... Step: 260... Loss: 2.3326... Val Loss: 2.3187\n",
      "Epoch: 2/10... Step: 270... Loss: 2.3272... Val Loss: 2.2974\n",
      "Epoch: 3/10... Step: 280... Loss: 2.3278... Val Loss: 2.2789\n",
      "Epoch: 3/10... Step: 290... Loss: 2.2928... Val Loss: 2.2518\n",
      "Epoch: 3/10... Step: 300... Loss: 2.2758... Val Loss: 2.2295\n",
      "Epoch: 3/10... Step: 310... Loss: 2.2498... Val Loss: 2.2114\n",
      "Epoch: 3/10... Step: 320... Loss: 2.2276... Val Loss: 2.1878\n",
      "Epoch: 3/10... Step: 330... Loss: 2.1897... Val Loss: 2.1715\n",
      "Epoch: 3/10... Step: 340... Loss: 2.2030... Val Loss: 2.1515\n",
      "Epoch: 3/10... Step: 350... Loss: 2.1932... Val Loss: 2.1341\n",
      "Epoch: 3/10... Step: 360... Loss: 2.1134... Val Loss: 2.1139\n",
      "Epoch: 3/10... Step: 370... Loss: 2.1509... Val Loss: 2.0975\n",
      "Epoch: 3/10... Step: 380... Loss: 2.1226... Val Loss: 2.0834\n",
      "Epoch: 3/10... Step: 390... Loss: 2.0860... Val Loss: 2.0634\n",
      "Epoch: 3/10... Step: 400... Loss: 2.0723... Val Loss: 2.0482\n",
      "Epoch: 3/10... Step: 410... Loss: 2.0839... Val Loss: 2.0370\n",
      "Epoch: 4/10... Step: 420... Loss: 2.0582... Val Loss: 2.0189\n",
      "Epoch: 4/10... Step: 430... Loss: 2.0504... Val Loss: 2.0015\n",
      "Epoch: 4/10... Step: 440... Loss: 2.0261... Val Loss: 1.9926\n",
      "Epoch: 4/10... Step: 450... Loss: 1.9760... Val Loss: 1.9736\n",
      "Epoch: 4/10... Step: 460... Loss: 1.9739... Val Loss: 1.9625\n",
      "Epoch: 4/10... Step: 470... Loss: 1.9906... Val Loss: 1.9488\n",
      "Epoch: 4/10... Step: 480... Loss: 1.9769... Val Loss: 1.9439\n",
      "Epoch: 4/10... Step: 490... Loss: 1.9734... Val Loss: 1.9268\n",
      "Epoch: 4/10... Step: 500... Loss: 1.9729... Val Loss: 1.9162\n",
      "Epoch: 4/10... Step: 510... Loss: 1.9477... Val Loss: 1.9061\n",
      "Epoch: 4/10... Step: 520... Loss: 1.9579... Val Loss: 1.8917\n",
      "Epoch: 4/10... Step: 530... Loss: 1.9156... Val Loss: 1.8788\n",
      "Epoch: 4/10... Step: 540... Loss: 1.8783... Val Loss: 1.8699\n",
      "Epoch: 4/10... Step: 550... Loss: 1.9167... Val Loss: 1.8556\n",
      "Epoch: 5/10... Step: 560... Loss: 1.8852... Val Loss: 1.8473\n",
      "Epoch: 5/10... Step: 570... Loss: 1.8725... Val Loss: 1.8349\n",
      "Epoch: 5/10... Step: 580... Loss: 1.8465... Val Loss: 1.8302\n",
      "Epoch: 5/10... Step: 590... Loss: 1.8458... Val Loss: 1.8158\n",
      "Epoch: 5/10... Step: 600... Loss: 1.8244... Val Loss: 1.8059\n",
      "Epoch: 5/10... Step: 610... Loss: 1.8158... Val Loss: 1.8000\n",
      "Epoch: 5/10... Step: 620... Loss: 1.8226... Val Loss: 1.7921\n",
      "Epoch: 5/10... Step: 630... Loss: 1.8320... Val Loss: 1.7792\n",
      "Epoch: 5/10... Step: 640... Loss: 1.8123... Val Loss: 1.7703\n",
      "Epoch: 5/10... Step: 650... Loss: 1.7880... Val Loss: 1.7626\n",
      "Epoch: 5/10... Step: 660... Loss: 1.7661... Val Loss: 1.7562\n",
      "Epoch: 5/10... Step: 670... Loss: 1.7848... Val Loss: 1.7482\n",
      "Epoch: 5/10... Step: 680... Loss: 1.7798... Val Loss: 1.7408\n",
      "Epoch: 5/10... Step: 690... Loss: 1.7608... Val Loss: 1.7288\n",
      "Epoch: 6/10... Step: 700... Loss: 1.7519... Val Loss: 1.7221\n",
      "Epoch: 6/10... Step: 710... Loss: 1.7395... Val Loss: 1.7140\n",
      "Epoch: 6/10... Step: 720... Loss: 1.7308... Val Loss: 1.7091\n",
      "Epoch: 6/10... Step: 730... Loss: 1.7479... Val Loss: 1.7007\n",
      "Epoch: 6/10... Step: 740... Loss: 1.7086... Val Loss: 1.6933\n",
      "Epoch: 6/10... Step: 750... Loss: 1.6841... Val Loss: 1.6900\n",
      "Epoch: 6/10... Step: 760... Loss: 1.7336... Val Loss: 1.6809\n",
      "Epoch: 6/10... Step: 770... Loss: 1.7056... Val Loss: 1.6762\n",
      "Epoch: 6/10... Step: 780... Loss: 1.6860... Val Loss: 1.6689\n",
      "Epoch: 6/10... Step: 790... Loss: 1.6760... Val Loss: 1.6640\n",
      "Epoch: 6/10... Step: 800... Loss: 1.6928... Val Loss: 1.6627\n",
      "Epoch: 6/10... Step: 810... Loss: 1.6785... Val Loss: 1.6502\n",
      "Epoch: 6/10... Step: 820... Loss: 1.6481... Val Loss: 1.6492\n",
      "Epoch: 6/10... Step: 830... Loss: 1.6833... Val Loss: 1.6389\n",
      "Epoch: 7/10... Step: 840... Loss: 1.6413... Val Loss: 1.6323\n",
      "Epoch: 7/10... Step: 850... Loss: 1.6548... Val Loss: 1.6292\n",
      "Epoch: 7/10... Step: 860... Loss: 1.6433... Val Loss: 1.6227\n",
      "Epoch: 7/10... Step: 870... Loss: 1.6425... Val Loss: 1.6185\n",
      "Epoch: 7/10... Step: 880... Loss: 1.6482... Val Loss: 1.6137\n",
      "Epoch: 7/10... Step: 890... Loss: 1.6387... Val Loss: 1.6105\n",
      "Epoch: 7/10... Step: 900... Loss: 1.6227... Val Loss: 1.6036\n",
      "Epoch: 7/10... Step: 910... Loss: 1.5974... Val Loss: 1.6036\n",
      "Epoch: 7/10... Step: 920... Loss: 1.6231... Val Loss: 1.5995\n",
      "Epoch: 7/10... Step: 930... Loss: 1.6149... Val Loss: 1.5931\n",
      "Epoch: 7/10... Step: 940... Loss: 1.6074... Val Loss: 1.5916\n",
      "Epoch: 7/10... Step: 950... Loss: 1.6128... Val Loss: 1.5822\n",
      "Epoch: 7/10... Step: 960... Loss: 1.6101... Val Loss: 1.5785\n",
      "Epoch: 7/10... Step: 970... Loss: 1.6188... Val Loss: 1.5750\n",
      "Epoch: 8/10... Step: 980... Loss: 1.5939... Val Loss: 1.5664\n",
      "Epoch: 8/10... Step: 990... Loss: 1.5942... Val Loss: 1.5662\n",
      "Epoch: 8/10... Step: 1000... Loss: 1.5802... Val Loss: 1.5607\n",
      "Epoch: 8/10... Step: 1010... Loss: 1.6223... Val Loss: 1.5625\n",
      "Epoch: 8/10... Step: 1020... Loss: 1.5790... Val Loss: 1.5597\n",
      "Epoch: 8/10... Step: 1030... Loss: 1.5723... Val Loss: 1.5525\n",
      "Epoch: 8/10... Step: 1040... Loss: 1.5750... Val Loss: 1.5488\n",
      "Epoch: 8/10... Step: 1050... Loss: 1.5528... Val Loss: 1.5452\n",
      "Epoch: 8/10... Step: 1060... Loss: 1.5615... Val Loss: 1.5408\n",
      "Epoch: 8/10... Step: 1070... Loss: 1.5669... Val Loss: 1.5408\n",
      "Epoch: 8/10... Step: 1080... Loss: 1.5548... Val Loss: 1.5367\n",
      "Epoch: 8/10... Step: 1090... Loss: 1.5399... Val Loss: 1.5303\n",
      "Epoch: 8/10... Step: 1100... Loss: 1.5277... Val Loss: 1.5262\n",
      "Epoch: 8/10... Step: 1110... Loss: 1.5406... Val Loss: 1.5232\n",
      "Epoch: 9/10... Step: 1120... Loss: 1.5495... Val Loss: 1.5232\n",
      "Epoch: 9/10... Step: 1130... Loss: 1.5421... Val Loss: 1.5188\n",
      "Epoch: 9/10... Step: 1140... Loss: 1.5348... Val Loss: 1.5153\n",
      "Epoch: 9/10... Step: 1150... Loss: 1.5522... Val Loss: 1.5143\n",
      "Epoch: 9/10... Step: 1160... Loss: 1.5081... Val Loss: 1.5088\n",
      "Epoch: 9/10... Step: 1170... Loss: 1.5153... Val Loss: 1.5090\n",
      "Epoch: 9/10... Step: 1180... Loss: 1.5082... Val Loss: 1.5057\n",
      "Epoch: 9/10... Step: 1190... Loss: 1.5416... Val Loss: 1.5025\n",
      "Epoch: 9/10... Step: 1200... Loss: 1.4917... Val Loss: 1.4978\n",
      "Epoch: 9/10... Step: 1210... Loss: 1.5041... Val Loss: 1.4986\n",
      "Epoch: 9/10... Step: 1220... Loss: 1.4925... Val Loss: 1.4949\n",
      "Epoch: 9/10... Step: 1230... Loss: 1.4855... Val Loss: 1.4915\n",
      "Epoch: 9/10... Step: 1240... Loss: 1.4879... Val Loss: 1.4852\n",
      "Epoch: 9/10... Step: 1250... Loss: 1.4891... Val Loss: 1.4859\n",
      "Epoch: 10/10... Step: 1260... Loss: 1.4938... Val Loss: 1.4836\n",
      "Epoch: 10/10... Step: 1270... Loss: 1.4981... Val Loss: 1.4825\n",
      "Epoch: 10/10... Step: 1280... Loss: 1.5047... Val Loss: 1.4767\n",
      "Epoch: 10/10... Step: 1290... Loss: 1.4890... Val Loss: 1.4754\n",
      "Epoch: 10/10... Step: 1300... Loss: 1.4844... Val Loss: 1.4723\n",
      "Epoch: 10/10... Step: 1310... Loss: 1.4933... Val Loss: 1.4715\n",
      "Epoch: 10/10... Step: 1320... Loss: 1.4533... Val Loss: 1.4683\n",
      "Epoch: 10/10... Step: 1330... Loss: 1.4608... Val Loss: 1.4651\n",
      "Epoch: 10/10... Step: 1340... Loss: 1.4520... Val Loss: 1.4615\n"
     ]
    },
    {
     "name": "stdout",
     "output_type": "stream",
     "text": [
      "Epoch: 10/10... Step: 1350... Loss: 1.4450... Val Loss: 1.4604\n",
      "Epoch: 10/10... Step: 1360... Loss: 1.4534... Val Loss: 1.4586\n",
      "Epoch: 10/10... Step: 1370... Loss: 1.4365... Val Loss: 1.4558\n",
      "Epoch: 10/10... Step: 1380... Loss: 1.4723... Val Loss: 1.4510\n",
      "Epoch: 10/10... Step: 1390... Loss: 1.4794... Val Loss: 1.4521\n"
     ]
    }
   ],
   "source": [
    "batch_size = 128\n",
    "seq_length = 100\n",
    "n_epochs = 10 # start smaller if you are just testing initial behavior\n",
    "\n",
    "# train the model\n",
    "train(net, encoded, epochs=n_epochs, batch_size=batch_size, seq_length=seq_length, lr=0.001, print_every=10)"
   ]
  },
  {
   "cell_type": "markdown",
   "metadata": {},
   "source": [
    "## Getting the best model\n",
    "\n",
    "To set your hyperparameters to get the best performance, you'll want to watch the training and validation losses. If your training loss is much lower than the validation loss, you're overfitting. Increase regularization (more dropout) or use a smaller network. If the training and validation losses are close, you're underfitting so you can increase the size of the network."
   ]
  },
  {
   "cell_type": "markdown",
   "metadata": {},
   "source": [
    "## Hyperparameters\n",
    "\n",
    "Here are the hyperparameters for the network.\n",
    "\n",
    "In defining the model:\n",
    "* `n_hidden` - The number of units in the hidden layers.\n",
    "* `n_layers` - Number of hidden LSTM layers to use.\n",
    "\n",
    "We assume that dropout probability and learning rate will be kept at the default, in this example.\n",
    "\n",
    "And in training:\n",
    "* `batch_size` - Number of sequences running through the network in one pass.\n",
    "* `seq_length` - Number of characters in the sequence the network is trained on. Larger is better typically, the network will learn more long range dependencies. But it takes longer to train. 100 is typically a good number here.\n",
    "* `lr` - Learning rate for training\n",
    "\n",
    "Here's some good advice from Andrej Karpathy on training the network. I'm going to copy it in here for your benefit, but also link to [where it originally came from](https://github.com/karpathy/char-rnn#tips-and-tricks).\n",
    "\n",
    "> ## Tips and Tricks\n",
    "\n",
    ">### Monitoring Validation Loss vs. Training Loss\n",
    ">If you're somewhat new to Machine Learning or Neural Networks it can take a bit of expertise to get good models. The most important quantity to keep track of is the difference between your training loss (printed during training) and the validation loss (printed once in a while when the RNN is run on the validation data (by default every 1000 iterations)). In particular:\n",
    "\n",
    "> - If your training loss is much lower than validation loss then this means the network might be **overfitting**. Solutions to this are to decrease your network size, or to increase dropout. For example you could try dropout of 0.5 and so on.\n",
    "> - If your training/validation loss are about equal then your model is **underfitting**. Increase the size of your model (either number of layers or the raw number of neurons per layer)\n",
    "\n",
    "> ### Approximate number of parameters\n",
    "\n",
    "> The two most important parameters that control the model are `n_hidden` and `n_layers`. I would advise that you always use `n_layers` of either 2/3. The `n_hidden` can be adjusted based on how much data you have. The two important quantities to keep track of here are:\n",
    "\n",
    "> - The number of parameters in your model. This is printed when you start training.\n",
    "> - The size of your dataset. 1MB file is approximately 1 million characters.\n",
    "\n",
    ">These two should be about the same order of magnitude. It's a little tricky to tell. Here are some examples:\n",
    "\n",
    "> - I have a 100MB dataset and I'm using the default parameter settings (which currently print 150K parameters). My data size is significantly larger (100 mil >> 0.15 mil), so I expect to heavily underfit. I am thinking I can comfortably afford to make `n_hidden` larger.\n",
    "> - I have a 10MB dataset and running a 10 million parameter model. I'm slightly nervous and I'm carefully monitoring my validation loss. If it's larger than my training loss then I may want to try to increase dropout a bit and see if that helps the validation loss.\n",
    "\n",
    "> ### Best models strategy\n",
    "\n",
    ">The winning strategy to obtaining very good models (if you have the compute time) is to always err on making the network larger (as large as you're willing to wait for it to compute) and then try different dropout values (between 0,1). Whatever model has the best validation performance (the loss, written in the checkpoint filename, low is good) is the one you should use in the end.\n",
    "\n",
    ">It is very common in deep learning to run many different models with many different hyperparameter settings, and in the end take whatever checkpoint gave the best validation performance.\n",
    "\n",
    ">By the way, the size of your training and validation splits are also parameters. Make sure you have a decent amount of data in your validation set or otherwise the validation performance will be noisy and not very informative."
   ]
  },
  {
   "cell_type": "markdown",
   "metadata": {},
   "source": [
    "## Checkpoint\n",
    "\n",
    "After training, we'll save the model so we can load it again later if we need too. Here I'm saving the parameters needed to create the same architecture, the hidden layer hyperparameters and the text characters."
   ]
  },
  {
   "cell_type": "code",
   "execution_count": 18,
   "metadata": {},
   "outputs": [],
   "source": [
    "# change the name, for saving multiple files\n",
    "model_name = 'rnn_x_epoch.net'\n",
    "\n",
    "checkpoint = {'n_hidden': net.n_hidden,\n",
    "              'n_layers': net.n_layers,\n",
    "              'state_dict': net.state_dict(),\n",
    "              'tokens': net.chars}\n",
    "\n",
    "with open(model_name, 'wb') as f:\n",
    "    torch.save(checkpoint, f)"
   ]
  },
  {
   "cell_type": "markdown",
   "metadata": {},
   "source": [
    "---\n",
    "## Making Predictions\n",
    "\n",
    "Now that the model is trained, we'll want to sample from it and make predictions about next characters! To sample, we pass in a character and have the network predict the next character. Then we take that character, pass it back in, and get another predicted character. Just keep doing this and you'll generate a bunch of text!\n",
    "\n",
    "### A note on the `predict`  function\n",
    "\n",
    "The output of our RNN is from a fully-connected layer and it outputs a **distribution of next-character scores**.\n",
    "\n",
    "> To actually get the next character, we apply a softmax function, which gives us a *probability* distribution that we can then sample to predict the next character.\n",
    "\n",
    "### Top K sampling\n",
    "\n",
    "Our predictions come from a categorical probability distribution over all the possible characters. We can make the sample text and make it more reasonable to handle (with less variables) by only considering some $K$ most probable characters. This will prevent the network from giving us completely absurd characters while allowing it to introduce some noise and randomness into the sampled text. Read more about [topk, here](https://pytorch.org/docs/stable/torch.html#torch.topk).\n"
   ]
  },
  {
   "cell_type": "code",
   "execution_count": 19,
   "metadata": {},
   "outputs": [],
   "source": [
    "def predict(net, char, h=None, top_k=None):\n",
    "        ''' Given a character, predict the next character.\n",
    "            Returns the predicted character and the hidden state.\n",
    "        '''\n",
    "        \n",
    "        # tensor inputs\n",
    "        x = np.array([[net.char2int[char]]])\n",
    "        x = one_hot_encode(x, len(net.chars))\n",
    "        inputs = torch.from_numpy(x)\n",
    "        \n",
    "        if(train_on_gpu):\n",
    "            inputs = inputs.cuda()\n",
    "        \n",
    "        # detach hidden state from history\n",
    "        h = tuple([each.data for each in h])\n",
    "        # get the output of the model\n",
    "        out, h = net(inputs, h)\n",
    "\n",
    "        # get the character probabilities\n",
    "        p = F.softmax(out, dim=1).data\n",
    "        if(train_on_gpu):\n",
    "            p = p.cpu() # move to cpu\n",
    "        \n",
    "        # get top characters\n",
    "        if top_k is None:\n",
    "            top_ch = np.arange(len(net.chars))\n",
    "        else:\n",
    "            p, top_ch = p.topk(top_k)\n",
    "            top_ch = top_ch.numpy().squeeze()\n",
    "        \n",
    "        # select the likely next character with some element of randomness\n",
    "        p = p.numpy().squeeze()\n",
    "        char = np.random.choice(top_ch, p=p/p.sum())\n",
    "        \n",
    "        # return the encoded value of the predicted char and the hidden state\n",
    "        return net.int2char[char], h"
   ]
  },
  {
   "cell_type": "markdown",
   "metadata": {},
   "source": [
    "### Priming and generating text \n",
    "\n",
    "Typically you'll want to prime the network so you can build up a hidden state. Otherwise the network will start out generating characters at random. In general the first bunch of characters will be a little rough since it hasn't built up a long history of characters to predict from."
   ]
  },
  {
   "cell_type": "code",
   "execution_count": 20,
   "metadata": {},
   "outputs": [],
   "source": [
    "def sample(net, size, prime='The', top_k=None):\n",
    "        \n",
    "    if(train_on_gpu):\n",
    "        net.cuda()\n",
    "    else:\n",
    "        net.cpu()\n",
    "    \n",
    "    net.eval() # eval mode\n",
    "    \n",
    "    # First off, run through the prime characters\n",
    "    chars = [ch for ch in prime]\n",
    "    h = net.init_hidden(1)\n",
    "    for ch in prime:\n",
    "        char, h = predict(net, ch, h, top_k=top_k)\n",
    "\n",
    "    chars.append(char)\n",
    "    \n",
    "    # Now pass in the previous character and get a new one\n",
    "    for ii in range(size):\n",
    "        char, h = predict(net, chars[-1], h, top_k=top_k)\n",
    "        chars.append(char)\n",
    "\n",
    "    return ''.join(chars)"
   ]
  },
  {
   "cell_type": "code",
   "execution_count": 21,
   "metadata": {},
   "outputs": [
    {
     "name": "stdout",
     "output_type": "stream",
     "text": [
      "Anna was not seen, who had been brought to\n",
      "his. \"Well, tell me in the\n",
      "peeses and how tell mo those is to may an enchinal the\n",
      "contrantence and see it, which so much as such a\n",
      "minute the\n",
      "standers. Then you, the consicent to the\n",
      "stress talking which if thas step and to be she had so to do the beart,\" she taking his ward of thring a lighter of, and still tood the crasing and that her hands on his stuny\n",
      "of his confession who had superreaded a for the condection, who saw the coundess of a said\n",
      "was happenent and all at a lift and conscious head of the prestion on the sone of her hand, and\n",
      "he had to be a same as that the most hand.\n",
      "\n",
      "\"I done woman.\"\n",
      "\n",
      "\"I say the country to that the chose.\n",
      "\n",
      "\"I did not know to hear.\" She was streeg to her sayings\n",
      "and with his side. She\n",
      "she had alr say now the same at with her his and standing out has sone which\n",
      "had been tried at the same time in the patition, who said so more and farshes that in her heart the mind of the sigul said on the faces she\n",
      "said the corrision w\n"
     ]
    }
   ],
   "source": [
    "print(sample(net, 1000, prime='Anna', top_k=5))"
   ]
  },
  {
   "cell_type": "markdown",
   "metadata": {},
   "source": [
    "## Loading a checkpoint"
   ]
  },
  {
   "cell_type": "code",
   "execution_count": 22,
   "metadata": {},
   "outputs": [
    {
     "data": {
      "text/plain": [
       "<All keys matched successfully>"
      ]
     },
     "execution_count": 22,
     "metadata": {},
     "output_type": "execute_result"
    }
   ],
   "source": [
    "# Here we have loaded in a model that trained over 20 epochs `rnn_20_epoch.net`\n",
    "with open('rnn_x_epoch.net', 'rb') as f:\n",
    "    checkpoint = torch.load(f)\n",
    "    \n",
    "loaded = CharRNN(checkpoint['tokens'], n_hidden=checkpoint['n_hidden'], n_layers=checkpoint['n_layers'])\n",
    "loaded.load_state_dict(checkpoint['state_dict'])"
   ]
  },
  {
   "cell_type": "code",
   "execution_count": 23,
   "metadata": {},
   "outputs": [
    {
     "name": "stdout",
     "output_type": "stream",
     "text": [
      "And Levin said to the posinite which he went into the prince was not seen to that insitely some coldred and correstion to strange a supt and thoughts, and herseed and at all was to say that he was not the bride to have the position of\n",
      "her feremoristing. He was not happing hands all and attention.\n",
      "\"The were must be a carry of the certain. That\n",
      "say that I was along one.\"\n",
      "\n",
      "\"I wonder to be that? I did not say a profess,\n",
      "be a caller,\" and she said,\n",
      "walking, and had\n",
      "something, the sound on\n",
      "suppression\n",
      "of sonciaring the stiff. \"What so you take it to see you to solt.\" \n",
      "Stepan Arkadyevatch. The princess attered the sours of his what treing on his fation at it, but he saw that the stilita trigness in such or there wishone, the chise so to be sectning that he said to the faristed of the\n",
      "money to a love of the\n",
      "countess the\n",
      "conversate of the strengs as a strange which when she sat some tense of him, and would be\n",
      "feeling that that\n",
      "he wished to his\n",
      "condicain the man a froe came to a children, and sat she was that he could not\n",
      "be nuthing to\n",
      "bryone, and he was since the capater and\n",
      "thought of at his was all all his began to\n",
      "say about his hand, and this strong so had time all and hands, went up and had been a craal and the children of carryed her\n",
      "the friend. At him and\n",
      "had all the memeromaning of the frese and asked, as he said to him this hands.\n",
      "\n",
      "\"Anon, any see, you well see how im it.\"\n",
      "\n",
      "The people at the pain, the stare of the sold on the prince, shooting her as\n",
      "implisation of simply\n",
      "sure of his wife's conversation with\n",
      "an accusting of his wourd was to the confrection and the same and the\n",
      "marmen on the formows his hand in them and talking, and she had,\n",
      "the stupe of his stunging, and those when he was detinned the post but the string that she was at once should be astactian to\n",
      "that in her eyes\n",
      "strange all all the condression and say that it was better to all the mustise and\n",
      "his fert as in the same, as he was not talk that\n",
      "him about has been atreal treised to be as the face, the first way at him t\n"
     ]
    }
   ],
   "source": [
    "# Sample using a loaded model\n",
    "print(sample(loaded, 2000, top_k=5, prime=\"And Levin said\"))"
   ]
  },
  {
   "cell_type": "code",
   "execution_count": null,
   "metadata": {
    "collapsed": true
   },
   "outputs": [],
   "source": []
  }
 ],
 "metadata": {
  "kernelspec": {
   "display_name": "Python [conda env:deep_learning] *",
   "language": "python",
   "name": "conda-env-deep_learning-py"
  },
  "language_info": {
   "codemirror_mode": {
    "name": "ipython",
    "version": 3
   },
   "file_extension": ".py",
   "mimetype": "text/x-python",
   "name": "python",
   "nbconvert_exporter": "python",
   "pygments_lexer": "ipython3",
   "version": "3.7.7"
  }
 },
 "nbformat": 4,
 "nbformat_minor": 2
}
